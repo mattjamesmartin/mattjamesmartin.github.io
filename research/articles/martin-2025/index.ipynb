{
  "cells": [
    {
      "cell_type": "raw",
      "metadata": {},
      "source": [
        "---\n",
        "title: \"Elite Fractures, Public Capture: The Strategic Use of Public Consultation in Global Constitution-Making\"\n",
        "date: 2025-03-20\n",
        "author:\n",
        "  - name: Matthew Martin\n",
        "    url: https://mattjamesmartin.github.io/\n",
        "    orcid: 0000-0003-3460-3603\n",
        "    affiliation: Department of Government, University of Texas at Austin\n",
        "categories: \n",
        "  - Constitutional design\n",
        "  - Public consultation \n",
        "  - Political elites\n",
        "pub-info:\n",
        "  reference: >-\n",
        "    <strong>Matthew Martin</strong>. “Elite Fractures, Public Capture: The Strategic Use of Public Consultation in Global Constitution-Making,” <em>Journal of Law and Courts</em> (forthcoming).\n",
        "  links:\n",
        "  - name: Pre-print\n",
        "    url: martin-2025.pdf\n",
        "    icon: fa-solid fa-file-pdf\n",
        "    local: true\n",
        "  - name: Code/data\n",
        "    url: \"https://dataverse.harvard.edu/dataset.xhtml?persistentId=doi:10.7910/DVN/PVTH3Z\"\n",
        "    icon: fa-solid fa-database\n",
        "  extra: >-\n",
        "    Presented at American Political Science Association (2024), Law and Society      Association (2024), and Northern Political Science Association (2023).\n",
        "---"
      ],
      "id": "de13b10b"
    },
    {
      "cell_type": "markdown",
      "metadata": {},
      "source": [
        "## Abstract\n",
        "\n",
        "Since 1974, two out of every five constitutions (40.3%) were prepared via processes that included public consultation. The reasons for adopting these participatory mechanisms, however, are largely unexplored. I argue that public consultation is a tool for elite contestation of power. Introducing an original dataset of public consultations in constitution-making processes from 1974-2021 (n = 300), I find that in democracies, factional majorities and newcomer elites use public consultation to legitimate a break from the status quo. In autocracies, governing coalitions that depend on performance and enjoy greater party institutionalization push for public consultation to preserve favorable power-sharing arrangements. {{< fa blank >}}\n",
        "\n",
        "## Important figures\n",
        "\n",
        "\n",
        "```{html}\n",
        "<div style=\"display: flex; justify-content: space-between; align-items: center;\">\n",
        "  <figure style=\"width: 50%; text-align: center; margin-right: 10px;\">\n",
        "    <img src=\"figures/map.png\" alt=\"Figure 2: World Map of Public Consultation in Constitution-Making (1974-2021)\" style=\"width: 100%;\">\n",
        "    <figcaption>Figure 2: World Map of Public Consultation in Constitution-Making (1974-2021)</figcaption>\n",
        "  </figure>\n",
        "  <figure style=\"width: 50%; text-align: center; margin-left: 10px;\">\n",
        "    <img src=\"figures/full_plot_cont.png\" alt=\"Figure 3: Predicted Probability of Public Consultation Across Level of Democracy (V-Dem Electoral Democracy Index)\" style=\"width: 100%;\">\n",
        "    <figcaption>Figure 3: Predicted Probability of Public Consultation Across Level of Democracy (V-Dem Electoral Democracy Index)</figcaption>\n",
        "  </figure>\n",
        "</div>\n",
        "```"
      ],
      "id": "57ab3f6a"
    }
  ],
  "metadata": {
    "kernelspec": {
      "name": "python3",
      "language": "python",
      "display_name": "Python 3 (ipykernel)"
    }
  },
  "nbformat": 4,
  "nbformat_minor": 5
}